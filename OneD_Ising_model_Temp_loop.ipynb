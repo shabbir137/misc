{
 "cells": [
  {
   "cell_type": "code",
   "execution_count": 1,
   "metadata": {},
   "outputs": [],
   "source": [
    "import numpy as np\n",
    "import matplotlib.pyplot as plt\n",
    "%matplotlib inline"
   ]
  },
  {
   "cell_type": "code",
   "execution_count": 2,
   "metadata": {},
   "outputs": [],
   "source": [
    "def H(S, muB, J, N):\n",
    "    H1 = -1.0*muB*np.sum(S)\n",
    "    H2 = 0.0\n",
    "    for i in range(N-1):\n",
    "        H2 += S[i]*S[i+1]\n",
    "    #H2 += S[0]*S[-1] #should we take into account periodic boundary condition term\n",
    "    H = H1 - J*H2\n",
    "    return H"
   ]
  },
  {
   "cell_type": "code",
   "execution_count": 3,
   "metadata": {},
   "outputs": [],
   "source": [
    "def dH(Si, Sip1, Sim1, muB, J):\n",
    "    dH = 2.0*Si*muB + 2.0*Si*J*(Sip1 + Sim1)\n",
    "    return dH"
   ]
  },
  {
   "cell_type": "code",
   "execution_count": 4,
   "metadata": {},
   "outputs": [],
   "source": [
    "kB_inv = 1e23/1.3"
   ]
  },
  {
   "cell_type": "code",
   "execution_count": null,
   "metadata": {},
   "outputs": [],
   "source": [
    "\"\"\"\n",
    "mu = 2e-22\n",
    "B = 0.5\n",
    "T = np.arange(0.1, 100.0, 0.1)\n",
    "J = -3e-22\n",
    "\"\"\""
   ]
  },
  {
   "cell_type": "code",
   "execution_count": 5,
   "metadata": {},
   "outputs": [],
   "source": [
    "#number of spins\n",
    "N = 1000\n",
    "#Magnetic field\n",
    "mu = 2e-22\n",
    "B = 0.5\n",
    "J = -3e-22\n",
    "muB = mu*B"
   ]
  },
  {
   "cell_type": "code",
   "execution_count": 6,
   "metadata": {},
   "outputs": [],
   "source": [
    "Nsteps = 50000"
   ]
  },
  {
   "cell_type": "code",
   "execution_count": 7,
   "metadata": {},
   "outputs": [],
   "source": [
    "BurnIn = 10000"
   ]
  },
  {
   "cell_type": "code",
   "execution_count": 8,
   "metadata": {},
   "outputs": [],
   "source": [
    "T = np.arange(5.0, 101.0, 5.0)"
   ]
  },
  {
   "cell_type": "code",
   "execution_count": 9,
   "metadata": {},
   "outputs": [],
   "source": [
    "avg_S_T = np.ndarray(shape = (len(T)))"
   ]
  },
  {
   "cell_type": "code",
   "execution_count": 10,
   "metadata": {},
   "outputs": [
    {
     "name": "stdout",
     "output_type": "stream",
     "text": [
      "temp 5.0\n",
      "temp 10.0\n",
      "temp 15.0\n",
      "temp 20.0\n",
      "temp 25.0\n",
      "temp 30.0\n",
      "temp 35.0\n",
      "temp 40.0\n",
      "temp 45.0\n",
      "temp 50.0\n",
      "temp 55.0\n",
      "temp 60.0\n",
      "temp 65.0\n",
      "temp 70.0\n",
      "temp 75.0\n",
      "temp 80.0\n",
      "temp 85.0\n",
      "temp 90.0\n",
      "temp 95.0\n",
      "temp 100.0\n"
     ]
    }
   ],
   "source": [
    "for j in np.arange(0, len(T), 1):\n",
    "    temp = T[j]\n",
    "    print(\"temp\", temp)\n",
    "    S = np.ndarray(shape = (N), dtype = int)\n",
    "    for i in range(N):\n",
    "        S[i] = (-1)**i\n",
    "\n",
    "    flip_index = np.ndarray(shape = (Nsteps), dtype = int)\n",
    "    for i in range(Nsteps):\n",
    "        flip_index[i] = int(np.random.uniform(0, N, 1))\n",
    "\n",
    "    S_chain = np.ndarray(shape = (Nsteps, N))\n",
    "    S_chain[0,:] = S \n",
    "\n",
    "    avg_Spin = np.ndarray(shape = (Nsteps))\n",
    "    avg_Spin[0] = 1.0*np.sum(S_chain[0,:])/N\n",
    "\n",
    "    H_array = np.ndarray(shape = (Nsteps))\n",
    "\n",
    "    H0 = H(S, muB, J, N)\n",
    "\n",
    "    energy_array = np.ndarray(shape = (Nsteps))\n",
    "    energy_array[0] = H0\n",
    "\n",
    "    for i in np.arange(1, Nsteps, 1):\n",
    "    #print(i)\n",
    "        flip = flip_index[i] # = flip\n",
    "        #flip the Spin at location 'flip'\n",
    "        S[flip] = -1*S[flip]\n",
    "        flipP1 = flip + 1\n",
    "        flipM1 = flip - 1\n",
    "        #periodic boundary conditions\n",
    "        if flip == N-1:\n",
    "            flipP1 = 0\n",
    "        if flip == 0:\n",
    "            flipM1 = N-1\n",
    "        dE = dH(S[flip], S[flipP1], S[flipM1], muB, J)\n",
    "        \n",
    "        energy_array[i] = H(S, muB, J, N)\n",
    "        if dE < 0.0:\n",
    "            S_chain[i, :] = np.copy(S)\n",
    "        else: \n",
    "            alpha = np.random.uniform(0, 1, 1)\n",
    "            if np.log(alpha) < -1.0*dE*kB_inv/temp:\n",
    "                S_chain[i, :] = np.copy(S)\n",
    "            else: \n",
    "                S_chain[i,:] = np.copy(S_chain[i-1,:])\n",
    "                S[flip] = -1*S[flip]\n",
    "        avg_Spin[i] = 1.0*np.sum(S_chain[i,:])/N\n",
    "        H_array[i] = H(S, muB, J, N)\n",
    "    avg_S_T[j] = np.mean(avg_Spin[BurnIn:])"
   ]
  },
  {
   "cell_type": "code",
   "execution_count": 11,
   "metadata": {},
   "outputs": [],
   "source": [
    "#analytical solution\n",
    "gamma = mu*B*kB_inv/T\n",
    "avg_M = np.sinh(gamma)/np.sqrt( np.sinh(gamma)**2 + np.exp(4.0*J*kB_inv/T) )"
   ]
  },
  {
   "cell_type": "code",
   "execution_count": 12,
   "metadata": {},
   "outputs": [
    {
     "data": {
      "image/png": "[encoded data removed]",
      "text/plain": [
       "<Figure size 432x288 with 1 Axes>"
      ]
     },
     "metadata": {
      "needs_background": "light"
     },
     "output_type": "display_data"
    }
   ],
   "source": [
    "plt.scatter(T, -1.0*avg_S_T, color = 'blue', label = \"Output of Monte Carlo run\")\n",
    "plt.plot(T, avg_M, color = 'magenta', label = \"Analytical Solution\")\n",
    "plt.legend(loc = 'upper right')\n",
    "plt.title(\"1-D Ising Model\")\n",
    "plt.xlabel(\"T [Kelvin]\")\n",
    "plt.ylabel(\"average Magnetisation\")\n",
    "plt.grid()\n",
    "plt.savefig(\"OneD_Ising_Model_avgM_pve.png\")\n",
    "plt.savefig(\"OneD_Ising_Model_avgM_pve.pdf\")"
   ]
  }
 ],
 "metadata": {
  "kernelspec": {
   "display_name": "Python 3",
   "language": "python",
   "name": "python3"
  },
  "language_info": {
   "codemirror_mode": {
    "name": "ipython",
    "version": 3
   },
   "file_extension": ".py",
   "mimetype": "text/x-python",
   "name": "python",
   "nbconvert_exporter": "python",
   "pygments_lexer": "ipython3",
   "version": "3.8.8"
  }
 },
 "nbformat": 4,
 "nbformat_minor": 2
}
